{
  "nbformat": 4,
  "nbformat_minor": 0,
  "metadata": {
    "colab": {
      "name": "PU49.ipynb",
      "provenance": [],
      "authorship_tag": "ABX9TyMLddL92H1lbpvtoWTDTrRp"
    },
    "kernelspec": {
      "name": "python3",
      "display_name": "Python 3"
    }
  },
  "cells": [
    {
      "cell_type": "markdown",
      "metadata": {
        "id": "GpH4GbiEK9G-",
        "colab_type": "text"
      },
      "source": [
        "The arithmetic sequence, 1487, 4817, 8147, in which each of the terms increases by 3330, is unusual in two ways: (i) each of the three terms are prime, and, (ii) each of the 4-digit numbers are permutations of one another.\n",
        "\n",
        "There are no arithmetic sequences made up of three 1-, 2-, or 3-digit primes, exhibiting this property, but there is one other 4-digit increasing sequence.\n",
        "\n",
        "What 12-digit number do you form by concatenating the three terms in this sequence?"
      ]
    },
    {
      "cell_type": "code",
      "metadata": {
        "id": "3vQQZyOWK6Jo",
        "colab_type": "code",
        "colab": {
          "base_uri": "https://localhost:8080/",
          "height": 33
        },
        "outputId": "cf802eb2-df91-4e3a-e3a6-638bc0b8991f"
      },
      "source": [
        "from itertools import permutations\n",
        "import math\n",
        "\n",
        "l1 = [] # list containing primes b/w 1488 and 9999\n",
        "def is_prime(n):\n",
        "    for i in range(2, int(math.sqrt(n)) + 1):\n",
        "        if n % i == 0:\n",
        "            return False\n",
        "    return True\n",
        "\n",
        "for num in range(1488,9999):\n",
        "    if is_prime(num):\n",
        "        l1.append(num)   \n",
        "\n",
        "\n",
        "# to check the difference b/w prime permutations\n",
        "def check_diff(b):\n",
        "    for i in range(len(b)):\n",
        "        for j in range(i+1, len(b)):\n",
        "            difference = b[j] - b[i]\n",
        "            if b[j] + difference in b:\n",
        "                return str(b[i])+str(b[j])+str(b[j]+difference)\n",
        "    return False\n",
        "\n",
        "# prime numbers greater than 1487 and less or equal to 9999\n",
        "primes = l1\n",
        "\n",
        "\n",
        "for i in primes:\n",
        "    p = permutations(str(i))\n",
        "    a = [int(''.join(x)) for x in p] #because above func. was returning tuples\n",
        "    a = list(set([x for x in a if x in primes]))# checking weather the permutations are prime or not\n",
        "    a.sort()\n",
        "    if len(a) >= 3:#because we can't make 12 digit number with two 4 digit number\n",
        "        if check_diff(a):\n",
        "            print(\"Answer is \",check_diff(a))\n",
        "            break"
      ],
      "execution_count": 2,
      "outputs": [
        {
          "output_type": "stream",
          "text": [
            "Answer is  296962999629\n"
          ],
          "name": "stdout"
        }
      ]
    },
    {
      "cell_type": "code",
      "metadata": {
        "id": "tLG_pL2TMLWz",
        "colab_type": "code",
        "colab": {}
      },
      "source": [
        ""
      ],
      "execution_count": 0,
      "outputs": []
    }
  ]
}