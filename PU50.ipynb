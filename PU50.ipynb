{
  "nbformat": 4,
  "nbformat_minor": 0,
  "metadata": {
    "colab": {
      "name": "PU50.ipynb",
      "provenance": [],
      "authorship_tag": "ABX9TyNHdbEymsNKhC0dDY0eiKhE"
    },
    "kernelspec": {
      "name": "python3",
      "display_name": "Python 3"
    }
  },
  "cells": [
    {
      "cell_type": "markdown",
      "metadata": {
        "id": "NJ6IHqSWl010",
        "colab_type": "text"
      },
      "source": [
        ""
      ]
    },
    {
      "cell_type": "code",
      "metadata": {
        "id": "Cufqar6kY2pc",
        "colab_type": "code",
        "colab": {}
      },
      "source": [
        "import math\n",
        "\n",
        "l1 = []\n",
        "def is_prime(n):\n",
        "    for i in range(2, int(math.sqrt(n)) + 1):\n",
        "        if n % i == 0:\n",
        "            return False\n",
        "    return True\n",
        "\n",
        "for num in range(2,1000000):\n",
        "    if is_prime(num):\n",
        "        l1.append(num)    \n"
      ],
      "execution_count": 0,
      "outputs": []
    },
    {
      "cell_type": "code",
      "metadata": {
        "id": "7GZbRRfGY3f9",
        "colab_type": "code",
        "colab": {}
      },
      "source": [
        "#max sequence length\n",
        "mseql = 0\n",
        "\n",
        "#required prime number below 1 million\n",
        "pnobm = 0\n",
        "\n",
        "for i,pno in enumerate(l1): #enumerate will give us corresponding index for elements in list\n",
        "  for j in l1[i:]:\n",
        "    seql = 0  #sequence length\n",
        "    t=0 #total sum\n",
        "    t += j\n",
        "    if t>100000:\n",
        "      break\n",
        "    seql += 1 \n",
        "    if t in l1 and seql > mseql:\n",
        "      mseql = seql\n",
        "      pnobm = t\n",
        "print(pnobm)"
      ],
      "execution_count": 0,
      "outputs": []
    },
    {
      "cell_type": "code",
      "metadata": {
        "id": "WXwVddjhY7Cy",
        "colab_type": "code",
        "colab": {}
      },
      "source": [
        ""
      ],
      "execution_count": 0,
      "outputs": []
    }
  ]
}